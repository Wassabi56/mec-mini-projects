{
 "cells": [
  {
   "cell_type": "markdown",
   "source": [
    "This exercise will require you to pull some data from the Qunadl API. Qaundl is currently the most widely used aggregator of financial market data."
   ],
   "metadata": {}
  },
  {
   "cell_type": "markdown",
   "source": [
    "As a first step, you will need to register a free account on the http://www.quandl.com website."
   ],
   "metadata": {}
  },
  {
   "cell_type": "markdown",
   "source": [
    "After you register, you will be provided with a unique API key, that you should store:"
   ],
   "metadata": {}
  },
  {
   "cell_type": "code",
   "execution_count": 63,
   "source": [
    "# Store the API key as a string - according to PEP8, constants are always named in all upper case\r\n",
    "API_KEY = 'dyTvBso9fjvVUJQzVALy'"
   ],
   "outputs": [],
   "metadata": {
    "collapsed": true
   }
  },
  {
   "cell_type": "markdown",
   "source": [
    "Qaundl has a large number of data sources, but, unfortunately, most of them require a Premium subscription. Still, there are also a good number of free datasets."
   ],
   "metadata": {}
  },
  {
   "cell_type": "markdown",
   "source": [
    "For this mini project, we will focus on equities data from the Frankfurt Stock Exhange (FSE), which is available for free. We'll try and analyze the stock prices of a company called Carl Zeiss Meditec, which manufactures tools for eye examinations, as well as medical lasers for laser eye surgery: https://www.zeiss.com/meditec/int/home.html. The company is listed under the stock ticker AFX_X."
   ],
   "metadata": {}
  },
  {
   "cell_type": "markdown",
   "source": [
    "You can find the detailed Quandl API instructions here: https://docs.quandl.com/docs/time-series"
   ],
   "metadata": {}
  },
  {
   "cell_type": "markdown",
   "source": [
    "While there is a dedicated Python package for connecting to the Quandl API, we would prefer that you use the *requests* package, which can be easily downloaded using *pip* or *conda*. You can find the documentation for the package here: http://docs.python-requests.org/en/master/ "
   ],
   "metadata": {}
  },
  {
   "cell_type": "markdown",
   "source": [
    "Finally, apart from the *requests* package, you are encouraged to not use any third party Python packages, such as *pandas*, and instead focus on what's available in the Python Standard Library (the *collections* module might come in handy: https://pymotw.com/3/collections/).\n",
    "Also, since you won't have access to DataFrames, you are encouraged to us Python's native data structures - preferably dictionaries, though some questions can also be answered using lists.\n",
    "You can read more on these data structures here: https://docs.python.org/3/tutorial/datastructures.html"
   ],
   "metadata": {}
  },
  {
   "cell_type": "markdown",
   "source": [
    "Keep in mind that the JSON responses you will be getting from the API map almost one-to-one to Python's dictionaries. Unfortunately, they can be very nested, so make sure you read up on indexing dictionaries in the documentation provided above."
   ],
   "metadata": {}
  },
  {
   "cell_type": "code",
   "execution_count": 64,
   "source": [
    "# First, import the relevant modules\r\n",
    "\r\n",
    "import operator\r\n",
    "import requests\r\n",
    "import json\r\n"
   ],
   "outputs": [],
   "metadata": {
    "collapsed": true
   }
  },
  {
   "cell_type": "code",
   "execution_count": 65,
   "source": [
    "# Now, call the Quandl API and pull out a small sample of the data (only one day) to get a glimpse\r\n",
    "# into the JSON structure that will be returned\r\n",
    "url = \"https://www.quandl.com/api/v3/datasets/XFRA/ADS?start_date=2017-01-01&end_date=2017-12-30&api_key=\" + API_KEY\r\n",
    "print(url)\r\n",
    "r = requests.get(url)\r\n",
    "json_data_as_dict = r.json()  # Creates a Python dict\r\n",
    "print(f'Type: {type(json_data_as_dict)} \\n Number of trading days: {len(json_data_as_dict[\"dataset\"][\"data\"])}')\r\n",
    "# Dump to a file so we can see the dictionary structure\r\n",
    "with open('myfile.json', 'w', encoding ='utf8') as json_file:\r\n",
    "    json.dump(json_data_as_dict, json_file, allow_nan=True, indent = 6)\r\n",
    "#  print(json.dumps(json_data_as_dict, indent = 3))\r\n"
   ],
   "outputs": [
    {
     "output_type": "stream",
     "name": "stdout",
     "text": [
      "https://www.quandl.com/api/v3/datasets/XFRA/ADS?start_date=2017-01-01&end_date=2017-12-30&api_key=dyTvBso9fjvVUJQzVALy\n",
      "Type: <class 'dict'> \n",
      " Number of trading days: 260\n"
     ]
    }
   ],
   "metadata": {
    "collapsed": true
   }
  },
  {
   "cell_type": "code",
   "execution_count": 41,
   "source": [
    "# Inspect the JSON structure of the object you created, and take note of how nested it is,\r\n",
    "# as well as the overall structure"
   ],
   "outputs": [],
   "metadata": {
    "collapsed": true
   }
  },
  {
   "cell_type": "markdown",
   "source": [
    "These are your tasks for this mini project:\n",
    "\n",
    "1. Collect data from the Franfurt Stock Exchange, for the ticker AFX_X, for the whole year 2017 (keep in mind that the date format is YYYY-MM-DD).\n",
    "2. Convert the returned JSON object into a Python dictionary.\n",
    "3. Calculate what the highest and lowest opening prices were for the stock in this period.\n",
    "4. What was the largest change in any one day (based on High and Low price)?\n",
    "5. What was the largest change between any two days (based on Closing Price)?\n",
    "6. What was the average daily trading volume during this year?\n",
    "7. (Optional) What was the median trading volume during this year. (Note: you may need to implement your own function for calculating the median.)"
   ],
   "metadata": {}
  },
  {
   "cell_type": "code",
   "execution_count": 70,
   "source": [
    "#  Flatten the nested data\r\n",
    "flat = []\r\n",
    "for row in json_data_as_dict[\"dataset\"][\"data\"]:\r\n",
    "    for num in row:\r\n",
    "        flat.append(num)\r\n",
    "#  Check that the number of days is still 260\r\n",
    "print(len(flat)/8)\r\n",
    "print(flat[0:16])\r\n",
    "#  Check if flat has the null items that are present in \"data\"\r\n",
    "#  print(f'First 20 items in flat: \\n ')\r\n",
    "#  for i in range(20):\r\n",
    "#      print(flat[i])\r\n",
    "\r\n",
    "#  ** Because the list of prices has duplicate items, list comprehension will not work,\r\n",
    "#  ** and need to use for loops\r\n",
    "\r\n",
    "def filter_data(n):\r\n",
    "    list = []\r\n",
    "    for x in (range(len(flat))):\r\n",
    "       if x % 8 == n:\r\n",
    "           list.append(flat[x])\r\n",
    "    return list\r\n",
    "\r\n",
    "open_prices = filter_data(1)\r\n",
    "#  print(open_prices[0:7])\r\n",
    "#  print(len(open_prices))\r\n",
    "high_prices = filter_data(2)\r\n",
    "low_prices =  filter_data(3)\r\n",
    "close_prices = filter_data(4)\r\n",
    "volume = filter_data(5)\r\n",
    "\r\n",
    "highest_open = max(open_prices)\r\n",
    "lowest_open = min(open_prices)\r\n",
    "\r\n",
    "largest_change_in_day = max(list(map(operator.sub, high_prices, low_prices)))\r\n",
    "print(f\"Largest change intraday is {largest_change_in_day}\")\r\n",
    "\r\n",
    "change_day_to_day = []\r\n",
    "for i in range(len(close_prices) - 1):\r\n",
    "    change_day_to_day.append(abs(close_prices[i+1] - close_prices[i]))\r\n",
    "\r\n",
    "largest_change_day_to_day = max(change_day_to_day)\r\n",
    "print(f\"Largest change day to day is {largest_change_day_to_day}\")\r\n",
    "\r\n",
    "avg_daily_volume = statistics.mean(volume)\r\n",
    "print(f\"Average daily volume for 2017 is {int(avg_daily_volume)}\")\r\n",
    "\r\n",
    "median_daily_volume = statistics.median(volume)\r\n",
    "print(f\"Median daily volume for 2017 is {int(median_daily_volume)}\")\r\n"
   ],
   "outputs": [
    {
     "output_type": "stream",
     "name": "stdout",
     "text": [
      "260.0\n",
      "['2017-12-29', 162.513872, 162.513872, 161.125301, 161.149375, 1060.0, None, None, '2017-12-28', 163.601041, 163.601041, 161.951511, 162.221136, 1019.0, None, None]\n",
      "Largest change intraday is 10.96412699999999\n",
      "Largest change day to day is 13.902107\n",
      "Average daily volume for 2017 is 1638\n",
      "Median daily volume for 2017 is 1130\n"
     ]
    }
   ],
   "metadata": {}
  },
  {
   "cell_type": "markdown",
   "source": [],
   "metadata": {}
  }
 ],
 "metadata": {
  "kernelspec": {
   "name": "python3",
   "display_name": "Python 3.7.10 64-bit ('MachineLearning': conda)"
  },
  "language_info": {
   "codemirror_mode": {
    "name": "ipython",
    "version": 3
   },
   "file_extension": ".py",
   "mimetype": "text/x-python",
   "name": "python",
   "nbconvert_exporter": "python",
   "pygments_lexer": "ipython3",
   "version": "3.7.10"
  },
  "interpreter": {
   "hash": "5fe54c21366f942abb10e75aa83cb9e98bd8d80838d374ad56d0388531f51ff4"
  }
 },
 "nbformat": 4,
 "nbformat_minor": 2
}